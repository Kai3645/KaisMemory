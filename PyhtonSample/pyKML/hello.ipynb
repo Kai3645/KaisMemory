{
 "cells": [
  {
   "cell_type": "code",
   "execution_count": 1,
   "metadata": {
    "collapsed": true
   },
   "outputs": [
    {
     "data": {
      "text/plain": "<Element {http://www.opengis.net/kml/2.2}name at 0x1060b5460>"
     },
     "execution_count": 1,
     "metadata": {},
     "output_type": "execute_result"
    }
   ],
   "source": [
    "from pykml.factory import KML_ElementMaker as KML_em\n",
    "myKml = KML_em.name(\"Hello World!\")\n",
    "myKml"
   ]
  },
  {
   "cell_type": "code",
   "execution_count": 2,
   "outputs": [],
   "source": [
    "# from pykml.factory import ATOM_ElementMaker as ATOM_em\n",
    "# from pykml.factory import GX_ElementMaker as GX_em\n",
    "pm1 = KML_em.Placemark(\n",
    "        KML_em.name(\"Hello World!\"),\n",
    "        KML_em.Point(\n",
    "                KML_em.coordinates(\"-64.5253,18.4607\")\n",
    "        )\n",
    ")"
   ],
   "metadata": {
    "collapsed": false,
    "pycharm": {
     "name": "#%%\n"
    }
   }
  },
  {
   "cell_type": "code",
   "execution_count": 3,
   "outputs": [
    {
     "data": {
      "text/plain": "b'<Placemark xmlns=\"http://www.opengis.net/kml/2.2\" xmlns:atom=\"http://www.w3.org/2005/Atom\" xmlns:gx=\"http://www.google.com/kml/ext/2.2\"><name>Hello World!</name><Point><coordinates>-64.5253,18.4607</coordinates></Point></Placemark>'"
     },
     "execution_count": 3,
     "metadata": {},
     "output_type": "execute_result"
    }
   ],
   "source": [
    "from lxml import etree\n",
    "etree.tostring(pm1)"
   ],
   "metadata": {
    "collapsed": false,
    "pycharm": {
     "name": "#%%\n"
    }
   }
  },
  {
   "cell_type": "code",
   "execution_count": 4,
   "outputs": [
    {
     "name": "stdout",
     "output_type": "stream",
     "text": [
      "<Placemark xmlns=\"http://www.opengis.net/kml/2.2\" xmlns:atom=\"http://www.w3.org/2005/Atom\" xmlns:gx=\"http://www.google.com/kml/ext/2.2\">\n",
      "  <name>Hello World!</name>\n",
      "  <Point>\n",
      "    <coordinates>-64.5253,18.4607</coordinates>\n",
      "  </Point>\n",
      "</Placemark>\n",
      "\n"
     ]
    }
   ],
   "source": [
    "tmp_str = str(etree.tostring(pm1, pretty_print=True), encoding = \"utf-8\")\n",
    "print(tmp_str)"
   ],
   "metadata": {
    "collapsed": false,
    "pycharm": {
     "name": "#%%\n"
    }
   }
  },
  {
   "cell_type": "code",
   "execution_count": 5,
   "outputs": [],
   "source": [
    "pm2 = KML_em.Placemark(\n",
    "        KML_em.name(\"A second placemark!\"),\n",
    "        KML_em.Point(\n",
    "                KML_em.coordinates(\"-64.5358,18.4486\")\n",
    "        )\n",
    ")\n",
    "fld = KML_em.Folder(pm1, pm2)"
   ],
   "metadata": {
    "collapsed": false,
    "pycharm": {
     "name": "#%%\n"
    }
   }
  },
  {
   "cell_type": "code",
   "execution_count": 6,
   "outputs": [
    {
     "name": "stdout",
     "output_type": "stream",
     "text": [
      "<Folder xmlns=\"http://www.opengis.net/kml/2.2\" xmlns:atom=\"http://www.w3.org/2005/Atom\" xmlns:gx=\"http://www.google.com/kml/ext/2.2\">\n",
      "  <Placemark>\n",
      "    <name>Hello World!</name>\n",
      "    <Point>\n",
      "      <coordinates>-64.5253,18.4607</coordinates>\n",
      "    </Point>\n",
      "  </Placemark>\n",
      "  <Placemark>\n",
      "    <name>A second placemark!</name>\n",
      "    <Point>\n",
      "      <coordinates>-64.5358,18.4486</coordinates>\n",
      "    </Point>\n",
      "  </Placemark>\n",
      "</Folder>\n",
      "\n"
     ]
    }
   ],
   "source": [
    "tmp_str = str(etree.tostring(fld, pretty_print=True), encoding = \"utf-8\")\n",
    "print(tmp_str)"
   ],
   "metadata": {
    "collapsed": false,
    "pycharm": {
     "name": "#%%\n"
    }
   }
  },
  {
   "cell_type": "code",
   "execution_count": 7,
   "outputs": [
    {
     "name": "stdout",
     "output_type": "stream",
     "text": [
      "<Folder xmlns=\"http://www.opengis.net/kml/2.2\" xmlns:atom=\"http://www.w3.org/2005/Atom\" xmlns:gx=\"http://www.google.com/kml/ext/2.2\">\n",
      "  <Placemark>\n",
      "    <name>Hello World!</name>\n",
      "    <Point>\n",
      "      <coordinates>-64.5253,18.4607</coordinates>\n",
      "    </Point>\n",
      "  </Placemark>\n",
      "  <Placemark>\n",
      "    <name>A second placemark!</name>\n",
      "    <Point>\n",
      "      <coordinates>-64.5358,18.4486</coordinates>\n",
      "    </Point>\n",
      "  </Placemark>\n",
      "  <Placemark>\n",
      "    <name>A third placemark!</name>\n",
      "  </Placemark>\n",
      "</Folder>\n",
      "\n"
     ]
    }
   ],
   "source": [
    "pm3=KML_em.Placemark(KML_em.name(\"A third placemark!\"))\n",
    "fld.append(pm3)\n",
    "tmp_str = str(etree.tostring(fld, pretty_print=True), encoding = \"utf-8\")\n",
    "print(tmp_str)"
   ],
   "metadata": {
    "collapsed": false,
    "pycharm": {
     "name": "#%%\n"
    }
   }
  },
  {
   "cell_type": "code",
   "execution_count": 8,
   "outputs": [],
   "source": [
    "fld.remove(pm2)"
   ],
   "metadata": {
    "collapsed": false,
    "pycharm": {
     "name": "#%%\n"
    }
   }
  },
  {
   "cell_type": "code",
   "execution_count": 9,
   "outputs": [
    {
     "name": "stdout",
     "output_type": "stream",
     "text": [
      "<Folder xmlns=\"http://www.opengis.net/kml/2.2\" xmlns:atom=\"http://www.w3.org/2005/Atom\" xmlns:gx=\"http://www.google.com/kml/ext/2.2\">\n",
      "  <Placemark>\n",
      "    <name>Hello World!</name>\n",
      "    <Point>\n",
      "      <coordinates>-64.5253,18.4607</coordinates>\n",
      "    </Point>\n",
      "  </Placemark>\n",
      "  <Placemark>\n",
      "    <name>A third placemark!</name>\n",
      "  </Placemark>\n",
      "</Folder>\n",
      "\n"
     ]
    }
   ],
   "source": [
    "tmp_str = str(etree.tostring(fld, pretty_print=True), encoding = \"utf-8\")\n",
    "print(tmp_str)"
   ],
   "metadata": {
    "collapsed": false,
    "pycharm": {
     "name": "#%%\n"
    }
   }
  },
  {
   "cell_type": "code",
   "execution_count": 10,
   "outputs": [
    {
     "data": {
      "text/plain": "'Hello World!'"
     },
     "execution_count": 10,
     "metadata": {},
     "output_type": "execute_result"
    }
   ],
   "source": [
    "fld.Placemark.name.text\n"
   ],
   "metadata": {
    "collapsed": false,
    "pycharm": {
     "name": "#%%\n"
    }
   }
  },
  {
   "cell_type": "code",
   "execution_count": 11,
   "outputs": [
    {
     "name": "stdout",
     "output_type": "stream",
     "text": [
      "sample folder\n"
     ]
    }
   ],
   "source": [
    "from pykml import parser\n",
    "kml_str = '<kml xmlns=\"http://www.opengis.net/kml/2.2\">' \\\n",
    "          '<Document>' \\\n",
    "          '<Folder>' \\\n",
    "          '<name>sample folder</name>' \\\n",
    "          '</Folder>' \\\n",
    "          '</Document>' \\\n",
    "          '</kml>'\n",
    "root = parser.fromstring(kml_str)\n",
    "print(root.Document.Folder.name.text)\n"
   ],
   "metadata": {
    "collapsed": false,
    "pycharm": {
     "name": "#%%\n"
    }
   }
  }
 ],
 "metadata": {
  "kernelspec": {
   "display_name": "Python 3",
   "language": "python",
   "name": "python3"
  },
  "language_info": {
   "codemirror_mode": {
    "name": "ipython",
    "version": 2
   },
   "file_extension": ".py",
   "mimetype": "text/x-python",
   "name": "python",
   "nbconvert_exporter": "python",
   "pygments_lexer": "ipython2",
   "version": "2.7.6"
  }
 },
 "nbformat": 4,
 "nbformat_minor": 0
}